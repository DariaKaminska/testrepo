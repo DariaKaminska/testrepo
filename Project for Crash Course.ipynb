{
 "cells": [
  {
   "cell_type": "code",
   "execution_count": 1,
   "metadata": {},
   "outputs": [
    {
     "name": "stdout",
     "output_type": "stream",
     "text": [
      "Requirement already satisfied: wordcloud in /home/nazar/anaconda3/lib/python3.7/site-packages (1.8.2.2)\n",
      "Requirement already satisfied: numpy>=1.6.1 in /home/nazar/.local/lib/python3.7/site-packages (from wordcloud) (1.21.5)\n",
      "Requirement already satisfied: matplotlib in /home/nazar/anaconda3/lib/python3.7/site-packages (from wordcloud) (3.1.3)\n",
      "Requirement already satisfied: pillow in /home/nazar/anaconda3/lib/python3.7/site-packages (from wordcloud) (9.2.0)\n",
      "Requirement already satisfied: python-dateutil>=2.1 in /home/nazar/anaconda3/lib/python3.7/site-packages (from matplotlib->wordcloud) (2.8.0)\n",
      "Requirement already satisfied: kiwisolver>=1.0.1 in /home/nazar/anaconda3/lib/python3.7/site-packages (from matplotlib->wordcloud) (1.1.0)\n",
      "Requirement already satisfied: pyparsing!=2.0.4,!=2.1.2,!=2.1.6,>=2.0.1 in /home/nazar/anaconda3/lib/python3.7/site-packages (from matplotlib->wordcloud) (2.4.0)\n",
      "Requirement already satisfied: cycler>=0.10 in /home/nazar/anaconda3/lib/python3.7/site-packages (from matplotlib->wordcloud) (0.10.0)\n",
      "Requirement already satisfied: six in /home/nazar/anaconda3/lib/python3.7/site-packages (from cycler>=0.10->matplotlib->wordcloud) (1.16.0)\n",
      "Requirement already satisfied: setuptools in /home/nazar/anaconda3/lib/python3.7/site-packages (from kiwisolver>=1.0.1->matplotlib->wordcloud) (41.0.1)\n",
      "Requirement already satisfied: fileupload in /home/nazar/anaconda3/lib/python3.7/site-packages (0.1.5)\n",
      "Requirement already satisfied: traitlets>=4.2 in /home/nazar/anaconda3/lib/python3.7/site-packages (from fileupload) (5.4.0)\n",
      "Requirement already satisfied: notebook>=4.2 in /home/nazar/anaconda3/lib/python3.7/site-packages (from fileupload) (6.0.0)\n",
      "Requirement already satisfied: ipywidgets>=5.1 in /home/nazar/anaconda3/lib/python3.7/site-packages (from fileupload) (7.5.0)\n",
      "Requirement already satisfied: nbformat>=4.2.0 in /home/nazar/anaconda3/lib/python3.7/site-packages (from ipywidgets>=5.1->fileupload) (4.4.0)\n",
      "Requirement already satisfied: ipython>=4.0.0 in /home/nazar/anaconda3/lib/python3.7/site-packages (from ipywidgets>=5.1->fileupload) (7.6.1)\n",
      "Requirement already satisfied: ipykernel>=4.5.1 in /home/nazar/anaconda3/lib/python3.7/site-packages (from ipywidgets>=5.1->fileupload) (5.1.1)\n",
      "Requirement already satisfied: widgetsnbextension~=3.5.0 in /home/nazar/anaconda3/lib/python3.7/site-packages (from ipywidgets>=5.1->fileupload) (3.5.0)\n",
      "Requirement already satisfied: terminado>=0.8.1 in /home/nazar/anaconda3/lib/python3.7/site-packages (from notebook>=4.2->fileupload) (0.8.2)\n",
      "Requirement already satisfied: nbconvert in /home/nazar/anaconda3/lib/python3.7/site-packages (from notebook>=4.2->fileupload) (5.5.0)\n",
      "Requirement already satisfied: jinja2 in /home/nazar/anaconda3/lib/python3.7/site-packages (from notebook>=4.2->fileupload) (2.10.1)\n",
      "Requirement already satisfied: jupyter-client>=5.3.1 in /home/nazar/anaconda3/lib/python3.7/site-packages (from notebook>=4.2->fileupload) (5.3.1)\n",
      "Requirement already satisfied: ipython-genutils in /home/nazar/anaconda3/lib/python3.7/site-packages (from notebook>=4.2->fileupload) (0.2.0)\n",
      "Requirement already satisfied: Send2Trash in /home/nazar/anaconda3/lib/python3.7/site-packages (from notebook>=4.2->fileupload) (1.5.0)\n",
      "Requirement already satisfied: prometheus-client in /home/nazar/anaconda3/lib/python3.7/site-packages (from notebook>=4.2->fileupload) (0.7.1)\n",
      "Requirement already satisfied: pyzmq>=17 in /home/nazar/anaconda3/lib/python3.7/site-packages (from notebook>=4.2->fileupload) (18.0.0)\n",
      "Requirement already satisfied: jupyter-core>=4.4.0 in /home/nazar/anaconda3/lib/python3.7/site-packages (from notebook>=4.2->fileupload) (4.5.0)\n",
      "Requirement already satisfied: tornado>=5.0 in /home/nazar/anaconda3/lib/python3.7/site-packages (from notebook>=4.2->fileupload) (6.0.3)\n",
      "Requirement already satisfied: setuptools>=18.5 in /home/nazar/anaconda3/lib/python3.7/site-packages (from ipython>=4.0.0->ipywidgets>=5.1->fileupload) (41.0.1)\n",
      "Requirement already satisfied: pygments in /home/nazar/anaconda3/lib/python3.7/site-packages (from ipython>=4.0.0->ipywidgets>=5.1->fileupload) (2.13.0)\n",
      "Requirement already satisfied: jedi>=0.10 in /home/nazar/anaconda3/lib/python3.7/site-packages (from ipython>=4.0.0->ipywidgets>=5.1->fileupload) (0.13.3)\n",
      "Requirement already satisfied: backcall in /home/nazar/anaconda3/lib/python3.7/site-packages (from ipython>=4.0.0->ipywidgets>=5.1->fileupload) (0.1.0)\n",
      "Requirement already satisfied: prompt-toolkit<2.1.0,>=2.0.0 in /home/nazar/anaconda3/lib/python3.7/site-packages (from ipython>=4.0.0->ipywidgets>=5.1->fileupload) (2.0.9)\n",
      "Requirement already satisfied: pexpect in /home/nazar/anaconda3/lib/python3.7/site-packages (from ipython>=4.0.0->ipywidgets>=5.1->fileupload) (4.7.0)\n",
      "Requirement already satisfied: decorator in /home/nazar/anaconda3/lib/python3.7/site-packages (from ipython>=4.0.0->ipywidgets>=5.1->fileupload) (4.4.0)\n",
      "Requirement already satisfied: pickleshare in /home/nazar/anaconda3/lib/python3.7/site-packages (from ipython>=4.0.0->ipywidgets>=5.1->fileupload) (0.7.5)\n",
      "Requirement already satisfied: python-dateutil>=2.1 in /home/nazar/anaconda3/lib/python3.7/site-packages (from jupyter-client>=5.3.1->notebook>=4.2->fileupload) (2.8.0)\n",
      "Requirement already satisfied: jsonschema!=2.5.0,>=2.4 in /home/nazar/anaconda3/lib/python3.7/site-packages (from nbformat>=4.2.0->ipywidgets>=5.1->fileupload) (2.6.0)\n",
      "Requirement already satisfied: MarkupSafe>=0.23 in /home/nazar/anaconda3/lib/python3.7/site-packages (from jinja2->notebook>=4.2->fileupload) (1.1.1)\n",
      "Requirement already satisfied: pandocfilters>=1.4.1 in /home/nazar/anaconda3/lib/python3.7/site-packages (from nbconvert->notebook>=4.2->fileupload) (1.4.2)\n",
      "Requirement already satisfied: entrypoints>=0.2.2 in /home/nazar/anaconda3/lib/python3.7/site-packages (from nbconvert->notebook>=4.2->fileupload) (0.3)\n",
      "Requirement already satisfied: bleach in /home/nazar/anaconda3/lib/python3.7/site-packages (from nbconvert->notebook>=4.2->fileupload) (3.1.0)\n",
      "Requirement already satisfied: defusedxml in /home/nazar/anaconda3/lib/python3.7/site-packages (from nbconvert->notebook>=4.2->fileupload) (0.6.0)\n",
      "Requirement already satisfied: testpath in /home/nazar/anaconda3/lib/python3.7/site-packages (from nbconvert->notebook>=4.2->fileupload) (0.4.2)\n",
      "Requirement already satisfied: mistune>=0.8.1 in /home/nazar/anaconda3/lib/python3.7/site-packages (from nbconvert->notebook>=4.2->fileupload) (0.8.4)\n",
      "Requirement already satisfied: parso>=0.3.0 in /home/nazar/anaconda3/lib/python3.7/site-packages (from jedi>=0.10->ipython>=4.0.0->ipywidgets>=5.1->fileupload) (0.5.0)\n",
      "Requirement already satisfied: six>=1.9.0 in /home/nazar/anaconda3/lib/python3.7/site-packages (from prompt-toolkit<2.1.0,>=2.0.0->ipython>=4.0.0->ipywidgets>=5.1->fileupload) (1.16.0)\n",
      "Requirement already satisfied: wcwidth in /home/nazar/anaconda3/lib/python3.7/site-packages (from prompt-toolkit<2.1.0,>=2.0.0->ipython>=4.0.0->ipywidgets>=5.1->fileupload) (0.2.5)\n",
      "Requirement already satisfied: webencodings in /home/nazar/anaconda3/lib/python3.7/site-packages (from bleach->nbconvert->notebook>=4.2->fileupload) (0.5.1)\n",
      "Requirement already satisfied: ptyprocess>=0.5 in /home/nazar/anaconda3/lib/python3.7/site-packages (from pexpect->ipython>=4.0.0->ipywidgets>=5.1->fileupload) (0.6.0)\n",
      "Requirement already satisfied: ipywidgets in /home/nazar/anaconda3/lib/python3.7/site-packages (7.5.0)\n",
      "Requirement already satisfied: widgetsnbextension~=3.5.0 in /home/nazar/anaconda3/lib/python3.7/site-packages (from ipywidgets) (3.5.0)\n",
      "Requirement already satisfied: ipykernel>=4.5.1 in /home/nazar/anaconda3/lib/python3.7/site-packages (from ipywidgets) (5.1.1)\n",
      "Requirement already satisfied: nbformat>=4.2.0 in /home/nazar/anaconda3/lib/python3.7/site-packages (from ipywidgets) (4.4.0)\n",
      "Requirement already satisfied: traitlets>=4.3.1 in /home/nazar/anaconda3/lib/python3.7/site-packages (from ipywidgets) (5.4.0)\n",
      "Requirement already satisfied: ipython>=4.0.0 in /home/nazar/anaconda3/lib/python3.7/site-packages (from ipywidgets) (7.6.1)\n",
      "Requirement already satisfied: jupyter-client in /home/nazar/anaconda3/lib/python3.7/site-packages (from ipykernel>=4.5.1->ipywidgets) (5.3.1)\n",
      "Requirement already satisfied: tornado>=4.2 in /home/nazar/anaconda3/lib/python3.7/site-packages (from ipykernel>=4.5.1->ipywidgets) (6.0.3)\n"
     ]
    },
    {
     "name": "stdout",
     "output_type": "stream",
     "text": [
      "Requirement already satisfied: jedi>=0.10 in /home/nazar/anaconda3/lib/python3.7/site-packages (from ipython>=4.0.0->ipywidgets) (0.13.3)\n",
      "Requirement already satisfied: pygments in /home/nazar/anaconda3/lib/python3.7/site-packages (from ipython>=4.0.0->ipywidgets) (2.13.0)\n",
      "Requirement already satisfied: pexpect in /home/nazar/anaconda3/lib/python3.7/site-packages (from ipython>=4.0.0->ipywidgets) (4.7.0)\n",
      "Requirement already satisfied: setuptools>=18.5 in /home/nazar/anaconda3/lib/python3.7/site-packages (from ipython>=4.0.0->ipywidgets) (41.0.1)\n",
      "Requirement already satisfied: pickleshare in /home/nazar/anaconda3/lib/python3.7/site-packages (from ipython>=4.0.0->ipywidgets) (0.7.5)\n",
      "Requirement already satisfied: decorator in /home/nazar/anaconda3/lib/python3.7/site-packages (from ipython>=4.0.0->ipywidgets) (4.4.0)\n",
      "Requirement already satisfied: prompt-toolkit<2.1.0,>=2.0.0 in /home/nazar/anaconda3/lib/python3.7/site-packages (from ipython>=4.0.0->ipywidgets) (2.0.9)\n",
      "Requirement already satisfied: backcall in /home/nazar/anaconda3/lib/python3.7/site-packages (from ipython>=4.0.0->ipywidgets) (0.1.0)\n",
      "Requirement already satisfied: jsonschema!=2.5.0,>=2.4 in /home/nazar/anaconda3/lib/python3.7/site-packages (from nbformat>=4.2.0->ipywidgets) (2.6.0)\n",
      "Requirement already satisfied: jupyter-core in /home/nazar/anaconda3/lib/python3.7/site-packages (from nbformat>=4.2.0->ipywidgets) (4.5.0)\n",
      "Requirement already satisfied: ipython-genutils in /home/nazar/anaconda3/lib/python3.7/site-packages (from nbformat>=4.2.0->ipywidgets) (0.2.0)\n",
      "Requirement already satisfied: notebook>=4.4.1 in /home/nazar/anaconda3/lib/python3.7/site-packages (from widgetsnbextension~=3.5.0->ipywidgets) (6.0.0)\n",
      "Requirement already satisfied: parso>=0.3.0 in /home/nazar/anaconda3/lib/python3.7/site-packages (from jedi>=0.10->ipython>=4.0.0->ipywidgets) (0.5.0)\n",
      "Requirement already satisfied: terminado>=0.8.1 in /home/nazar/anaconda3/lib/python3.7/site-packages (from notebook>=4.4.1->widgetsnbextension~=3.5.0->ipywidgets) (0.8.2)\n",
      "Requirement already satisfied: nbconvert in /home/nazar/anaconda3/lib/python3.7/site-packages (from notebook>=4.4.1->widgetsnbextension~=3.5.0->ipywidgets) (5.5.0)\n",
      "Requirement already satisfied: prometheus-client in /home/nazar/anaconda3/lib/python3.7/site-packages (from notebook>=4.4.1->widgetsnbextension~=3.5.0->ipywidgets) (0.7.1)\n",
      "Requirement already satisfied: jinja2 in /home/nazar/anaconda3/lib/python3.7/site-packages (from notebook>=4.4.1->widgetsnbextension~=3.5.0->ipywidgets) (2.10.1)\n",
      "Requirement already satisfied: pyzmq>=17 in /home/nazar/anaconda3/lib/python3.7/site-packages (from notebook>=4.4.1->widgetsnbextension~=3.5.0->ipywidgets) (18.0.0)\n",
      "Requirement already satisfied: Send2Trash in /home/nazar/anaconda3/lib/python3.7/site-packages (from notebook>=4.4.1->widgetsnbextension~=3.5.0->ipywidgets) (1.5.0)\n",
      "Requirement already satisfied: python-dateutil>=2.1 in /home/nazar/anaconda3/lib/python3.7/site-packages (from jupyter-client->ipykernel>=4.5.1->ipywidgets) (2.8.0)\n",
      "Requirement already satisfied: wcwidth in /home/nazar/anaconda3/lib/python3.7/site-packages (from prompt-toolkit<2.1.0,>=2.0.0->ipython>=4.0.0->ipywidgets) (0.2.5)\n",
      "Requirement already satisfied: six>=1.9.0 in /home/nazar/anaconda3/lib/python3.7/site-packages (from prompt-toolkit<2.1.0,>=2.0.0->ipython>=4.0.0->ipywidgets) (1.16.0)\n",
      "Requirement already satisfied: ptyprocess>=0.5 in /home/nazar/anaconda3/lib/python3.7/site-packages (from pexpect->ipython>=4.0.0->ipywidgets) (0.6.0)\n",
      "Requirement already satisfied: MarkupSafe>=0.23 in /home/nazar/anaconda3/lib/python3.7/site-packages (from jinja2->notebook>=4.4.1->widgetsnbextension~=3.5.0->ipywidgets) (1.1.1)\n",
      "Requirement already satisfied: bleach in /home/nazar/anaconda3/lib/python3.7/site-packages (from nbconvert->notebook>=4.4.1->widgetsnbextension~=3.5.0->ipywidgets) (3.1.0)\n",
      "Requirement already satisfied: testpath in /home/nazar/anaconda3/lib/python3.7/site-packages (from nbconvert->notebook>=4.4.1->widgetsnbextension~=3.5.0->ipywidgets) (0.4.2)\n",
      "Requirement already satisfied: pandocfilters>=1.4.1 in /home/nazar/anaconda3/lib/python3.7/site-packages (from nbconvert->notebook>=4.4.1->widgetsnbextension~=3.5.0->ipywidgets) (1.4.2)\n",
      "Requirement already satisfied: defusedxml in /home/nazar/anaconda3/lib/python3.7/site-packages (from nbconvert->notebook>=4.4.1->widgetsnbextension~=3.5.0->ipywidgets) (0.6.0)\n",
      "Requirement already satisfied: mistune>=0.8.1 in /home/nazar/anaconda3/lib/python3.7/site-packages (from nbconvert->notebook>=4.4.1->widgetsnbextension~=3.5.0->ipywidgets) (0.8.4)\n",
      "Requirement already satisfied: entrypoints>=0.2.2 in /home/nazar/anaconda3/lib/python3.7/site-packages (from nbconvert->notebook>=4.4.1->widgetsnbextension~=3.5.0->ipywidgets) (0.3)\n",
      "Requirement already satisfied: webencodings in /home/nazar/anaconda3/lib/python3.7/site-packages (from bleach->nbconvert->notebook>=4.4.1->widgetsnbextension~=3.5.0->ipywidgets) (0.5.1)\n",
      "Installing /home/nazar/anaconda3/lib/python3.7/site-packages/fileupload/static -> fileupload\n",
      "Up to date: /home/nazar/.local/share/jupyter/nbextensions/fileupload/extension.js\n",
      "Up to date: /home/nazar/.local/share/jupyter/nbextensions/fileupload/widget.js\n",
      "Up to date: /home/nazar/.local/share/jupyter/nbextensions/fileupload/fileupload/widget.js\n",
      "- Validating: \u001b[32mOK\u001b[0m\n",
      "\n",
      "    To initialize this nbextension in the browser every time the notebook (or other app) loads:\n",
      "    \n",
      "          jupyter nbextension enable fileupload --user --py\n",
      "    \n",
      "Enabling notebook extension fileupload/extension...\n",
      "      - Validating: \u001b[32mOK\u001b[0m\n"
     ]
    }
   ],
   "source": [
    "# Here are all the installs and imports you will need for your word cloud script and uploader widget\n",
    "\n",
    "!pip install wordcloud\n",
    "!pip install fileupload\n",
    "!pip install ipywidgets\n",
    "!jupyter nbextension install --py --user fileupload\n",
    "!jupyter nbextension enable --py fileupload\n",
    "\n",
    "import wordcloud\n",
    "import numpy as np\n",
    "from matplotlib import pyplot as plt\n",
    "from IPython.display import display\n",
    "import fileupload\n",
    "import io\n",
    "import sys"
   ]
  },
  {
   "cell_type": "code",
   "execution_count": 4,
   "metadata": {},
   "outputs": [
    {
     "data": {
      "application/vnd.jupyter.widget-view+json": {
       "model_id": "50fe6ec853884428863cfeb62834ee24",
       "version_major": 2,
       "version_minor": 0
      },
      "text/plain": [
       "FileUploadWidget(label='Browse', _dom_classes=('widget_item', 'btn-group'))"
      ]
     },
     "metadata": {},
     "output_type": "display_data"
    }
   ],
   "source": [
    "# This is the uploader widget\n",
    "\n",
    "def _upload():\n",
    "\n",
    "    _upload_widget = fileupload.FileUploadWidget()\n",
    "\n",
    "    def _cb(change):\n",
    "        global file_contents\n",
    "        decoded = io.StringIO(change['owner'].data.decode('utf-8'))\n",
    "        filename = change['owner'].filename\n",
    "        print('Uploaded `{}` ({:.2f} kB)'.format(\n",
    "            filename, len(decoded.read()) / 2 **10))\n",
    "        file_contents = decoded.getvalue()\n",
    "\n",
    "    _upload_widget.observe(_cb, names='data')\n",
    "    display(_upload_widget)\n",
    "\n",
    "_upload()"
   ]
  },
  {
   "cell_type": "code",
   "execution_count": 11,
   "metadata": {},
   "outputs": [
    {
     "name": "stdout",
     "output_type": "stream",
     "text": [
      "<class 'str'>\n"
     ]
    }
   ],
   "source": [
    "with open(\"/home/nazar/Downloads/poe.txt\", encoding = 'utf-8') as f:\n",
    "    my_file = f.read()\n",
    "    print(type(my_file))"
   ]
  },
  {
   "cell_type": "code",
   "execution_count": 56,
   "metadata": {},
   "outputs": [],
   "source": [
    "motivational_speech = \"Don’t ever let someone tell you, you can’t do something. Not even me. You got a dream, you got to protect it . People can’t do something themselves, they want to tell you you can’t do it . You want something, go get it . Period. So what makes a great leader in the 21st century? I’ve met many, and they stand out . They are women and men who are preparing themselves not for the comfortable predictability of yesterday but also for the realities of today and all of those unknown possibilities of tomorrow. When I was about 28, after a decade as a professional comedian, I realized one night in LA that the purpose of my life had always been to free people from concern, just like my dad. And when I realized this, I dubbed my new devotion the Church of Freedom From Concern, the Church of FFC. And I dedicated myself to that ministry. What’s yours? How will you serve the world? What did they need that your talent can provide? That’s all you have to figure out . Let me tell you something you already know. The world ain’t all sunshine and rainbows. It’s a very mean and nasty place, and I don’t care how tough you are, it will beat you to your knees and keep you there permanently if you let it. You, me, or nobody is gonna hit as hard as life. But it ain’t about how hard you hit. It’s about how hard you can get hit and keep moving forward. How much you can take and keep moving forward. That’s how winning is done!\""
   ]
  },
  {
   "cell_type": "markdown",
   "metadata": {},
   "source": [
    "Write a function in the cell below that iterates through the words in *file_contents*, removes punctuation, and counts the frequency of each word.  Oh, and be sure to make it ignore word case, words that do not contain all alphabets and boring words like \"and\" or \"the\".  Then use it in the `generate_from_frequencies` function to generate your very own word cloud!\n",
    "<br><br>\n",
    "**Hint:** Try storing the results of your iteration in a dictionary before passing them into wordcloud via the `generate_from_frequencies` function."
   ]
  },
  {
   "cell_type": "code",
   "execution_count": 57,
   "metadata": {},
   "outputs": [],
   "source": [
    "def calculate_frequencies(file_contents):\n",
    "    # Here is a list of punctuations and uninteresting words you can use to process your text\n",
    "    punctuations = '''!()-[]{};:'\"\\,<>./?@#$%^&*_~'''\n",
    "    uninteresting_words = [\"the\", \"a\", \"to\", \"if\", \"is\", \"it\", \"of\", \"and\", \"or\", \"an\", \"as\", \"i\", \"me\", \"my\", \\\n",
    "    \"we\", \"our\", \"ours\", \"you\", \"your\", \"yours\", \"he\", \"she\", \"him\", \"his\", \"her\", \"hers\", \"its\", \"they\", \"them\", \\\n",
    "    \"their\", \"what\", \"which\", \"who\", \"whom\", \"this\", \"that\", \"am\", \"are\", \"was\", \"were\", \"be\", \"been\", \"being\", \\\n",
    "    \"have\", \"has\", \"had\", \"do\", \"does\", \"did\", \"but\", \"at\", \"by\", \"with\", \"from\", \"here\", \"when\", \"where\", \"how\", \\\n",
    "    \"all\", \"any\", \"both\", \"each\", \"few\", \"more\", \"some\", \"out\", \"such\", \"in\", \"no\", \"nor\", \"too\", \"very\", \"can\", \"will\", \"just\"]\n",
    "    \n",
    "    # LEARNER CODE START HERE\n",
    "    \n",
    "    dict_frequencies = {}\n",
    "    f = file_contents.split()\n",
    "    for word in f:\n",
    "        if word.lower() not in uninteresting_words:\n",
    "            for letter in word:\n",
    "                if letter in punctuations:\n",
    "                    letter.replace(punctuations,\"\")\n",
    "            if word not in dict_frequencies.keys():\n",
    "                dict_frequencies[word] = 0\n",
    "            else :\n",
    "                dict_frequencies[word]+=1\n",
    "    \n",
    "    \n",
    "    #wordcloud\n",
    "    cloud = wordcloud.WordCloud()\n",
    "    print(dict_frequencies)\n",
    "    cloud.generate_from_frequencies(dict_frequencies)\n",
    "    return cloud.to_array()"
   ]
  },
  {
   "cell_type": "code",
   "execution_count": 58,
   "metadata": {},
   "outputs": [
    {
     "name": "stdout",
     "output_type": "stream",
     "text": [
      "{'Don’t': 0, 'ever': 0, 'let': 1, 'someone': 0, 'tell': 2, 'you,': 0, 'can’t': 2, 'something.': 0, 'Not': 0, 'even': 0, 'me.': 0, 'got': 1, 'dream,': 0, 'protect': 0, '.': 4, 'People': 0, 'something': 1, 'themselves,': 0, 'want': 1, 'something,': 0, 'go': 0, 'get': 1, 'Period.': 0, 'So': 0, 'makes': 0, 'great': 0, 'leader': 0, '21st': 0, 'century?': 0, 'I’ve': 0, 'met': 0, 'many,': 0, 'stand': 0, 'women': 0, 'men': 0, 'preparing': 0, 'themselves': 0, 'not': 0, 'for': 1, 'comfortable': 0, 'predictability': 0, 'yesterday': 0, 'also': 0, 'realities': 0, 'today': 0, 'those': 0, 'unknown': 0, 'possibilities': 0, 'tomorrow.': 0, 'about': 2, '28,': 0, 'after': 0, 'decade': 0, 'professional': 0, 'comedian,': 0, 'realized': 1, 'one': 0, 'night': 0, 'LA': 0, 'purpose': 0, 'life': 0, 'always': 0, 'free': 0, 'people': 0, 'concern,': 0, 'like': 0, 'dad.': 0, 'this,': 0, 'dubbed': 0, 'new': 0, 'devotion': 0, 'Church': 1, 'Freedom': 0, 'Concern,': 0, 'FFC.': 0, 'dedicated': 0, 'myself': 0, 'ministry.': 0, 'What’s': 0, 'yours?': 0, 'serve': 0, 'world?': 0, 'need': 0, 'talent': 0, 'provide?': 0, 'That’s': 1, 'figure': 0, 'Let': 0, 'already': 0, 'know.': 0, 'world': 0, 'ain’t': 1, 'sunshine': 0, 'rainbows.': 0, 'It’s': 1, 'mean': 0, 'nasty': 0, 'place,': 0, 'don’t': 0, 'care': 0, 'tough': 0, 'are,': 0, 'beat': 0, 'knees': 0, 'keep': 2, 'there': 0, 'permanently': 0, 'it.': 0, 'You,': 0, 'me,': 0, 'nobody': 0, 'gonna': 0, 'hit': 1, 'hard': 2, 'life.': 0, 'hit.': 0, 'moving': 1, 'forward.': 1, 'much': 0, 'take': 0, 'winning': 0, 'done!': 0}\n"
     ]
    },
    {
     "data": {
      "text/plain": [
       "array([[[0, 0, 0],\n",
       "        [0, 0, 0],\n",
       "        [0, 0, 0],\n",
       "        ...,\n",
       "        [0, 0, 0],\n",
       "        [0, 0, 0],\n",
       "        [0, 0, 0]],\n",
       "\n",
       "       [[0, 0, 0],\n",
       "        [0, 0, 0],\n",
       "        [0, 0, 0],\n",
       "        ...,\n",
       "        [0, 0, 0],\n",
       "        [0, 0, 0],\n",
       "        [0, 0, 0]],\n",
       "\n",
       "       [[0, 0, 0],\n",
       "        [0, 0, 0],\n",
       "        [0, 0, 0],\n",
       "        ...,\n",
       "        [0, 0, 0],\n",
       "        [0, 0, 0],\n",
       "        [0, 0, 0]],\n",
       "\n",
       "       ...,\n",
       "\n",
       "       [[0, 0, 0],\n",
       "        [0, 0, 0],\n",
       "        [0, 0, 0],\n",
       "        ...,\n",
       "        [0, 0, 0],\n",
       "        [0, 0, 0],\n",
       "        [0, 0, 0]],\n",
       "\n",
       "       [[0, 0, 0],\n",
       "        [0, 0, 0],\n",
       "        [0, 0, 0],\n",
       "        ...,\n",
       "        [0, 0, 0],\n",
       "        [0, 0, 0],\n",
       "        [0, 0, 0]],\n",
       "\n",
       "       [[0, 0, 0],\n",
       "        [0, 0, 0],\n",
       "        [0, 0, 0],\n",
       "        ...,\n",
       "        [0, 0, 0],\n",
       "        [0, 0, 0],\n",
       "        [0, 0, 0]]], dtype=uint8)"
      ]
     },
     "execution_count": 58,
     "metadata": {},
     "output_type": "execute_result"
    }
   ],
   "source": [
    "calculate_frequencies(motivational_speech)"
   ]
  },
  {
   "cell_type": "code",
   "execution_count": 59,
   "metadata": {},
   "outputs": [
    {
     "name": "stdout",
     "output_type": "stream",
     "text": [
      "{'Don’t': 0, 'ever': 0, 'let': 1, 'someone': 0, 'tell': 2, 'you,': 0, 'can’t': 2, 'something.': 0, 'Not': 0, 'even': 0, 'me.': 0, 'got': 1, 'dream,': 0, 'protect': 0, '.': 4, 'People': 0, 'something': 1, 'themselves,': 0, 'want': 1, 'something,': 0, 'go': 0, 'get': 1, 'Period.': 0, 'So': 0, 'makes': 0, 'great': 0, 'leader': 0, '21st': 0, 'century?': 0, 'I’ve': 0, 'met': 0, 'many,': 0, 'stand': 0, 'women': 0, 'men': 0, 'preparing': 0, 'themselves': 0, 'not': 0, 'for': 1, 'comfortable': 0, 'predictability': 0, 'yesterday': 0, 'also': 0, 'realities': 0, 'today': 0, 'those': 0, 'unknown': 0, 'possibilities': 0, 'tomorrow.': 0, 'about': 2, '28,': 0, 'after': 0, 'decade': 0, 'professional': 0, 'comedian,': 0, 'realized': 1, 'one': 0, 'night': 0, 'LA': 0, 'purpose': 0, 'life': 0, 'always': 0, 'free': 0, 'people': 0, 'concern,': 0, 'like': 0, 'dad.': 0, 'this,': 0, 'dubbed': 0, 'new': 0, 'devotion': 0, 'Church': 1, 'Freedom': 0, 'Concern,': 0, 'FFC.': 0, 'dedicated': 0, 'myself': 0, 'ministry.': 0, 'What’s': 0, 'yours?': 0, 'serve': 0, 'world?': 0, 'need': 0, 'talent': 0, 'provide?': 0, 'That’s': 1, 'figure': 0, 'Let': 0, 'already': 0, 'know.': 0, 'world': 0, 'ain’t': 1, 'sunshine': 0, 'rainbows.': 0, 'It’s': 1, 'mean': 0, 'nasty': 0, 'place,': 0, 'don’t': 0, 'care': 0, 'tough': 0, 'are,': 0, 'beat': 0, 'knees': 0, 'keep': 2, 'there': 0, 'permanently': 0, 'it.': 0, 'You,': 0, 'me,': 0, 'nobody': 0, 'gonna': 0, 'hit': 1, 'hard': 2, 'life.': 0, 'hit.': 0, 'moving': 1, 'forward.': 1, 'much': 0, 'take': 0, 'winning': 0, 'done!': 0}\n"
     ]
    },
    {
     "data": {
      "image/png": "[encoded data removed]",
      "text/plain": [
       "<Figure size 432x288 with 1 Axes>"
      ]
     },
     "metadata": {
      "needs_background": "light"
     },
     "output_type": "display_data"
    }
   ],
   "source": [
    "# Display your wordcloud image\n",
    "\n",
    "myimage = calculate_frequencies(motivational_speech)\n",
    "plt.imshow(myimage, interpolation = 'nearest')\n",
    "plt.axis('off')\n",
    "plt.show()"
   ]
  },
  {
   "cell_type": "code",
   "execution_count": null,
   "metadata": {},
   "outputs": [],
   "source": []
  },
  {
   "cell_type": "code",
   "execution_count": null,
   "metadata": {},
   "outputs": [],
   "source": []
  }
 ],
 "metadata": {
  "kernelspec": {
   "display_name": "Python 3",
   "language": "python",
   "name": "python3"
  },
  "language_info": {
   "codemirror_mode": {
    "name": "ipython",
    "version": 3
   },
   "file_extension": ".py",
   "mimetype": "text/x-python",
   "name": "python",
   "nbconvert_exporter": "python",
   "pygments_lexer": "ipython3",
   "version": "3.7.3"
  }
 },
 "nbformat": 4,
 "nbformat_minor": 2
}
